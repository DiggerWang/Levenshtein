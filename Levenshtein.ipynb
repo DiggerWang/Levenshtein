{
 "cells": [
  {
   "cell_type": "code",
   "execution_count": 1,
   "metadata": {},
   "outputs": [],
   "source": [
    "import Levenshtein as Let"
   ]
  },
  {
   "cell_type": "code",
   "execution_count": 2,
   "metadata": {},
   "outputs": [
    {
     "data": {
      "text/plain": [
       "3"
      ]
     },
     "execution_count": 2,
     "metadata": {},
     "output_type": "execute_result"
    }
   ],
   "source": [
    "#编辑距离\n",
    "Let.distance(\"holiday\",\"today\")"
   ]
  },
  {
   "cell_type": "code",
   "execution_count": 3,
   "metadata": {},
   "outputs": [
    {
     "data": {
      "text/plain": [
       "4"
      ]
     },
     "execution_count": 3,
     "metadata": {},
     "output_type": "execute_result"
    }
   ],
   "source": [
    "#汉明距离(Hamming Distance)，字符串必须等长\n",
    "Let.hamming(\"holiday\",\"Tuesday\")"
   ]
  },
  {
   "cell_type": "code",
   "execution_count": 4,
   "metadata": {},
   "outputs": [
    {
     "data": {
      "text/plain": [
       "[('replace', 0, 0), ('delete', 2, 2), ('delete', 3, 2)]"
      ]
     },
     "execution_count": 4,
     "metadata": {},
     "output_type": "execute_result"
    }
   ],
   "source": [
    "#字符修改的步骤\n",
    "Let.editops(\"holiday\",\"today\")"
   ]
  },
  {
   "cell_type": "code",
   "execution_count": 5,
   "metadata": {},
   "outputs": [
    {
     "data": {
      "text/plain": [
       "0.7904761904761904"
      ]
     },
     "execution_count": 5,
     "metadata": {},
     "output_type": "execute_result"
    }
   ],
   "source": [
    "#计算Jaro–Winkler distance\n",
    "Let.jaro_winkler(\"holiday\",\"today\")"
   ]
  },
  {
   "cell_type": "code",
   "execution_count": 6,
   "metadata": {},
   "outputs": [
    {
     "data": {
      "text/plain": [
       "'oday'"
      ]
     },
     "execution_count": 6,
     "metadata": {},
     "output_type": "execute_result"
    }
   ],
   "source": [
    "#找到两个string中相同的块\n",
    "#matching_blocks(edit_operations, source_length, destination_length)\n",
    "a,b = \"holiday\",\"today\"\n",
    "mb = Let.matching_blocks(Let.editops(a,b), len(a), len(b))\n",
    "''.join([a[x[0]:x[0]+x[2]] for x in mb])"
   ]
  },
  {
   "cell_type": "code",
   "execution_count": 7,
   "metadata": {},
   "outputs": [
    {
     "data": {
      "text/plain": [
       "'hoday'"
      ]
     },
     "execution_count": 7,
     "metadata": {},
     "output_type": "execute_result"
    }
   ],
   "source": [
    "#找到1个合适的中性单词\n",
    "Let.median([\"holiday\",\"holy\",\"day\",\"today\",\"Friday\",\"okay\"])"
   ]
  },
  {
   "cell_type": "code",
   "execution_count": 8,
   "metadata": {},
   "outputs": [
    {
     "data": {
      "text/plain": [
       "0.6666666666666666"
      ]
     },
     "execution_count": 8,
     "metadata": {},
     "output_type": "execute_result"
    }
   ],
   "source": [
    "#计算两个string的相似度\n",
    "Let.ratio(\"holiday\",\"today\")"
   ]
  },
  {
   "cell_type": "code",
   "execution_count": 9,
   "metadata": {},
   "outputs": [
    {
     "data": {
      "text/plain": [
       "0.7833333333333333"
      ]
     },
     "execution_count": 9,
     "metadata": {},
     "output_type": "execute_result"
    }
   ],
   "source": [
    "#计算两个string数组的相似度\n",
    "a = [\"holiday\",\"sad\",\"like\",\"cause\"]\n",
    "b = [\"today\",\"sat\",\"likely\",\"cause\"]\n",
    "Let.seqratio(a,b)"
   ]
  },
  {
   "cell_type": "code",
   "execution_count": 10,
   "metadata": {},
   "outputs": [
    {
     "name": "stdout",
     "output_type": "stream",
     "text": [
      "toliday\n",
      "toiday\n",
      "today\n"
     ]
    }
   ],
   "source": [
    "#根据修改步骤，把单词逐一向目标单词转变\n",
    "a = \"holiday\"\n",
    "b = \"today\"\n",
    "e = Let.editops(a,b)\n",
    "print(Let.apply_edit(e[:1],a,b))\n",
    "print(Let.apply_edit(e[:2],a,b))\n",
    "print(Let.apply_edit(e,a,b))"
   ]
  },
  {
   "cell_type": "code",
   "execution_count": 11,
   "metadata": {},
   "outputs": [
    {
     "name": "stdout",
     "output_type": "stream",
     "text": [
      "[('replace', 0, 0), ('delete', 2, 2), ('delete', 3, 2)]\n",
      "[('replace', 0, 0)]\n"
     ]
    },
    {
     "data": {
      "text/plain": [
       "[('delete', 2, 2), ('delete', 3, 2)]"
      ]
     },
     "execution_count": 11,
     "metadata": {},
     "output_type": "execute_result"
    }
   ],
   "source": [
    "#从一个步骤里减去另一个步骤\n",
    "a = \"holiday\"\n",
    "b = \"today\"\n",
    "e = Let.editops(a,b)\n",
    "print(e)\n",
    "print(e[:1])\n",
    "Let.subtract_edit(e,e[:1])"
   ]
  },
  {
   "cell_type": "code",
   "execution_count": null,
   "metadata": {},
   "outputs": [],
   "source": []
  }
 ],
 "metadata": {
  "kernelspec": {
   "display_name": "Python 3",
   "language": "python",
   "name": "python3"
  },
  "language_info": {
   "codemirror_mode": {
    "name": "ipython",
    "version": 3
   },
   "file_extension": ".py",
   "mimetype": "text/x-python",
   "name": "python",
   "nbconvert_exporter": "python",
   "pygments_lexer": "ipython3",
   "version": "3.6.4"
  }
 },
 "nbformat": 4,
 "nbformat_minor": 2
}
